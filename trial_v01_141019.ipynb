
import numpy as np
import pandas as pd
import matplotlib as mpl
import matplotlib.pyplot as plt


class betco():


    class preproc():

        class import():
    
            def Pgw(): 
                return

            def Pbaro():
                return

            def rainfall():
                return

            def stage():
                return

            def extraction():
                return
        
        def remove_outliers():
            return

        def fill_gaps():
            return

        def calc_fwhead():
            return
 
 
    class proc():
        
        class time_domain():
                
            def calc_linear():
                return
                
            def calc_nonlin():
                return
            
            def extract_fns():
                return
                
            def calc_amps():
                return

        class freq_domain():
        
            class dft():
                return
                
                def calc_amps():
                    return
                
            class cwt():
                return
                
                 def calc_amps():
                    return
                    
        def compare amps():
            return
            
            
    class postproc():
    
        def estimate_params():
            return
            
        def compare_magnitudes():
            return
            
        def compare heads():
            return
           
